{
 "cells": [
  {
   "cell_type": "code",
   "execution_count": 1,
   "metadata": {},
   "outputs": [],
   "source": [
    "import pandas as pd\n",
    "from datetime import datetime"
   ]
  },
  {
   "cell_type": "code",
   "execution_count": 2,
   "metadata": {},
   "outputs": [],
   "source": [
    "file = ['bitcoin', 'dow', 'euro_stoxx50', 'nasdaq', 'nikkei', 'oro', 'petroleo', 'shangai_stock_exchange', 'sp_500']\n",
    "data = []\n",
    "for i in file:\n",
    "    data.append(pd.read_csv('./data/' + i + '.csv'))\n",
    "file.insert(0, 'date')"
   ]
  },
  {
   "cell_type": "code",
   "execution_count": 3,
   "metadata": {},
   "outputs": [
    {
     "output_type": "stream",
     "name": "stdout",
     "text": [
      "<class 'pandas.core.frame.DataFrame'>\nRangeIndex: 2193 entries, 0 to 2192\nData columns (total 7 columns):\n #   Column    Non-Null Count  Dtype \n---  ------    --------------  ----- \n 0   Fecha     2193 non-null   object\n 1   Cierre    2193 non-null   object\n 2   Apertura  2193 non-null   object\n 3   Máximo    2193 non-null   object\n 4   Mínimo    2193 non-null   object\n 5   Vol.      2193 non-null   object\n 6   % var.    2193 non-null   object\ndtypes: object(7)\nmemory usage: 120.1+ KB\nNone \n \n\n<class 'pandas.core.frame.DataFrame'>\nRangeIndex: 1125 entries, 0 to 1124\nData columns (total 7 columns):\n #   Column    Non-Null Count  Dtype  \n---  ------    --------------  -----  \n 0   Fecha     1125 non-null   object \n 1   Cierre    1125 non-null   float64\n 2   Apertura  1125 non-null   float64\n 3   Máximo    1125 non-null   float64\n 4   Mínimo    1125 non-null   float64\n 5   Vol.      1125 non-null   object \n 6   % var.    1125 non-null   object \ndtypes: float64(4), object(3)\nmemory usage: 61.6+ KB\nNone \n \n\n<class 'pandas.core.frame.DataFrame'>\nRangeIndex: 1539 entries, 0 to 1538\nData columns (total 7 columns):\n #   Column    Non-Null Count  Dtype \n---  ------    --------------  ----- \n 0   Fecha     1539 non-null   object\n 1   Cierre    1539 non-null   object\n 2   Apertura  1539 non-null   object\n 3   Máximo    1539 non-null   object\n 4   Mínimo    1539 non-null   object\n 5   Vol.      1539 non-null   object\n 6   % var.    1539 non-null   object\ndtypes: object(7)\nmemory usage: 84.3+ KB\nNone \n \n\n<class 'pandas.core.frame.DataFrame'>\nRangeIndex: 1512 entries, 0 to 1511\nData columns (total 7 columns):\n #   Column    Non-Null Count  Dtype  \n---  ------    --------------  -----  \n 0   Fecha     1512 non-null   object \n 1   Cierre    1512 non-null   float64\n 2   Apertura  1512 non-null   float64\n 3   Máximo    1512 non-null   float64\n 4   Mínimo    1512 non-null   float64\n 5   Vol.      1512 non-null   object \n 6   % var.    1512 non-null   object \ndtypes: float64(4), object(3)\nmemory usage: 82.8+ KB\nNone \n \n\n<class 'pandas.core.frame.DataFrame'>\nRangeIndex: 1494 entries, 0 to 1493\nData columns (total 7 columns):\n #   Column    Non-Null Count  Dtype \n---  ------    --------------  ----- \n 0   Fecha     1494 non-null   object\n 1   Cierre    1494 non-null   object\n 2   Apertura  1494 non-null   object\n 3   Máximo    1494 non-null   object\n 4   Mínimo    1494 non-null   object\n 5   Vol.      1494 non-null   object\n 6   % var.    1494 non-null   object\ndtypes: object(7)\nmemory usage: 81.8+ KB\nNone \n \n\n<class 'pandas.core.frame.DataFrame'>\nRangeIndex: 1588 entries, 0 to 1587\nData columns (total 7 columns):\n #   Column    Non-Null Count  Dtype \n---  ------    --------------  ----- \n 0   Fecha     1588 non-null   object\n 1   Cierre    1588 non-null   object\n 2   Apertura  1588 non-null   object\n 3   Máximo    1588 non-null   object\n 4   Mínimo    1588 non-null   object\n 5   Vol.      1588 non-null   object\n 6   % var.    1588 non-null   object\ndtypes: object(7)\nmemory usage: 87.0+ KB\nNone \n \n\n<class 'pandas.core.frame.DataFrame'>\nRangeIndex: 1583 entries, 0 to 1582\nData columns (total 7 columns):\n #   Column    Non-Null Count  Dtype  \n---  ------    --------------  -----  \n 0   Fecha     1583 non-null   object \n 1   Cierre    1583 non-null   float64\n 2   Apertura  1583 non-null   float64\n 3   Máximo    1583 non-null   float64\n 4   Mínimo    1583 non-null   float64\n 5   Vol.      1583 non-null   object \n 6   % var.    1583 non-null   object \ndtypes: float64(4), object(3)\nmemory usage: 86.7+ KB\nNone \n \n\n<class 'pandas.core.frame.DataFrame'>\nRangeIndex: 1434 entries, 0 to 1433\nData columns (total 7 columns):\n #   Column    Non-Null Count  Dtype  \n---  ------    --------------  -----  \n 0   Fecha     1434 non-null   object \n 1   Cierre    1434 non-null   float64\n 2   Apertura  1434 non-null   float64\n 3   Máximo    1434 non-null   float64\n 4   Mínimo    1434 non-null   float64\n 5   Vol.      1434 non-null   object \n 6   % var.    1434 non-null   object \ndtypes: float64(4), object(3)\nmemory usage: 78.5+ KB\nNone \n \n\n<class 'pandas.core.frame.DataFrame'>\nRangeIndex: 1511 entries, 0 to 1510\nData columns (total 7 columns):\n #   Column    Non-Null Count  Dtype \n---  ------    --------------  ----- \n 0   Fecha     1511 non-null   object\n 1   Cierre    1511 non-null   object\n 2   Apertura  1511 non-null   object\n 3   Máximo    1511 non-null   object\n 4   Mínimo    1511 non-null   object\n 5   Vol.      1511 non-null   object\n 6   % var.    1511 non-null   object\ndtypes: object(7)\nmemory usage: 82.8+ KB\nNone \n \n\n"
     ]
    }
   ],
   "source": [
    "for i in data:\n",
    "    print(i.info(), '\\n \\n')"
   ]
  },
  {
   "cell_type": "code",
   "execution_count": 4,
   "metadata": {},
   "outputs": [],
   "source": [
    "def price(data):\n",
    "    try:\n",
    "        amount = [float(i.replace(',','')) for i in data.Cierre]\n",
    "        df = pd.DataFrame({'date': pd.to_datetime(data.Fecha),\n",
    "                      'amount': amount})\n",
    "    except:\n",
    "        df = pd.DataFrame({'date':pd.to_datetime(data.Fecha),\n",
    "                      'amount': data.Cierre.astype('float')})\n",
    "    return df\n",
    "\n",
    "def variance(data):\n",
    "    var = [float(i.replace('%','')) for i in data.iloc[:,6]]\n",
    "    df = pd.DataFrame({'date': pd.to_datetime(data.Fecha),\n",
    "                      'var': var})\n",
    "    return df\n",
    "\n",
    "def generate_df(l, names, ind):\n",
    "    inner = pd.merge(l[0], l[1], how ='inner', on = 'date', left_on = None, right_on = None,\n",
    "         left_index = True, right_index = True, sort = True)\n",
    "    for i in range(2, len(l)):\n",
    "        inner = pd.merge(inner, l[i], how ='inner', on = 'date', left_on = None, right_on = None,\n",
    "                 left_index = True, right_index = True, sort = True)\n",
    "    inner = pd.DataFrame(inner)\n",
    "    inner.columns = names\n",
    "    for i in range(1, len(names)):\n",
    "        inner.rename(columns = {names[i]: names[i] + ind}, inplace = True)\n",
    "    return inner"
   ]
  },
  {
   "cell_type": "code",
   "execution_count": 5,
   "metadata": {},
   "outputs": [],
   "source": [
    "amount = []\n",
    "var = []\n",
    "for i in data:\n",
    "    amount.append(price(i))\n",
    "    var.append(variance(i))"
   ]
  },
  {
   "cell_type": "code",
   "execution_count": 6,
   "metadata": {},
   "outputs": [
    {
     "output_type": "execute_result",
     "data": {
      "text/plain": [
       "        date   amount\n",
       "0 2021-01-01  29359.9\n",
       "1 2020-12-31  28949.4\n",
       "2 2020-12-30  28868.7\n",
       "3 2020-12-29  27376.0\n",
       "4 2020-12-28  27057.8"
      ],
      "text/html": "<div>\n<style scoped>\n    .dataframe tbody tr th:only-of-type {\n        vertical-align: middle;\n    }\n\n    .dataframe tbody tr th {\n        vertical-align: top;\n    }\n\n    .dataframe thead th {\n        text-align: right;\n    }\n</style>\n<table border=\"1\" class=\"dataframe\">\n  <thead>\n    <tr style=\"text-align: right;\">\n      <th></th>\n      <th>date</th>\n      <th>amount</th>\n    </tr>\n  </thead>\n  <tbody>\n    <tr>\n      <th>0</th>\n      <td>2021-01-01</td>\n      <td>29359.9</td>\n    </tr>\n    <tr>\n      <th>1</th>\n      <td>2020-12-31</td>\n      <td>28949.4</td>\n    </tr>\n    <tr>\n      <th>2</th>\n      <td>2020-12-30</td>\n      <td>28868.7</td>\n    </tr>\n    <tr>\n      <th>3</th>\n      <td>2020-12-29</td>\n      <td>27376.0</td>\n    </tr>\n    <tr>\n      <th>4</th>\n      <td>2020-12-28</td>\n      <td>27057.8</td>\n    </tr>\n  </tbody>\n</table>\n</div>"
     },
     "metadata": {},
     "execution_count": 6
    }
   ],
   "source": [
    "amount[0].head(5)"
   ]
  },
  {
   "cell_type": "code",
   "execution_count": 7,
   "metadata": {},
   "outputs": [
    {
     "output_type": "execute_result",
     "data": {
      "text/plain": [
       "        date   var\n",
       "0 2021-01-01  1.42\n",
       "1 2020-12-31  0.28\n",
       "2 2020-12-30  5.45\n",
       "3 2020-12-29  1.18\n",
       "4 2020-12-28  3.03"
      ],
      "text/html": "<div>\n<style scoped>\n    .dataframe tbody tr th:only-of-type {\n        vertical-align: middle;\n    }\n\n    .dataframe tbody tr th {\n        vertical-align: top;\n    }\n\n    .dataframe thead th {\n        text-align: right;\n    }\n</style>\n<table border=\"1\" class=\"dataframe\">\n  <thead>\n    <tr style=\"text-align: right;\">\n      <th></th>\n      <th>date</th>\n      <th>var</th>\n    </tr>\n  </thead>\n  <tbody>\n    <tr>\n      <th>0</th>\n      <td>2021-01-01</td>\n      <td>1.42</td>\n    </tr>\n    <tr>\n      <th>1</th>\n      <td>2020-12-31</td>\n      <td>0.28</td>\n    </tr>\n    <tr>\n      <th>2</th>\n      <td>2020-12-30</td>\n      <td>5.45</td>\n    </tr>\n    <tr>\n      <th>3</th>\n      <td>2020-12-29</td>\n      <td>1.18</td>\n    </tr>\n    <tr>\n      <th>4</th>\n      <td>2020-12-28</td>\n      <td>3.03</td>\n    </tr>\n  </tbody>\n</table>\n</div>"
     },
     "metadata": {},
     "execution_count": 7
    }
   ],
   "source": [
    "var[0].head(5)"
   ]
  },
  {
   "cell_type": "code",
   "execution_count": 8,
   "metadata": {},
   "outputs": [
    {
     "output_type": "stream",
     "name": "stdout",
     "text": [
      "max:  2021-01-01 00:00:00 \t min:  2015-01-01 00:00:00\nmax:  2020-12-31 00:00:00 \t min:  2015-01-04 00:00:00\nmax:  2020-12-31 00:00:00 \t min:  2015-01-04 00:00:00\nmax:  2020-12-31 00:00:00 \t min:  2015-01-04 00:00:00\nmax:  2020-12-30 00:00:00 \t min:  2015-01-04 00:00:00\nmax:  2021-01-01 00:00:00 \t min:  2015-01-01 00:00:00\nmax:  2020-12-31 00:00:00 \t min:  2015-01-01 00:00:00\nmax:  2020-12-31 00:00:00 \t min:  2015-01-04 00:00:00\nmax:  2020-12-31 00:00:00 \t min:  2015-01-04 00:00:00\n"
     ]
    }
   ],
   "source": [
    "for i in amount:\n",
    "    print('max: ', i.date.max(), '\\t min: ', i.date.min())"
   ]
  },
  {
   "cell_type": "code",
   "execution_count": 9,
   "metadata": {},
   "outputs": [
    {
     "output_type": "execute_result",
     "data": {
      "text/plain": [
       "        date  bitcoin_am  dow_am  euro_stoxx50_am  nasdaq_am  nikkei_am  \\\n",
       "0 2021-01-01     29359.9   55.50          3552.64     132.74   27444.17   \n",
       "1 2020-12-31     28949.4   55.47          3571.59     130.14   27568.15   \n",
       "2 2020-12-30     28868.7   54.33          3581.37     129.14   26854.03   \n",
       "3 2020-12-29     27376.0   54.29          3575.41     128.85   26656.61   \n",
       "4 2020-12-28     27057.8   54.79          3543.28     128.62   26668.35   \n",
       "\n",
       "   oro_am  petroleo_am  shangai_stock_exchange_am  sp_500_am  \n",
       "0  1901.6        48.52                       4.28    3756.07  \n",
       "1  1895.1        48.40                       4.18    3732.04  \n",
       "2  1893.4        48.00                       4.13    3727.04  \n",
       "3  1882.9        47.62                       4.14    3735.36  \n",
       "4  1880.4        48.23                       4.13    3703.06  "
      ],
      "text/html": "<div>\n<style scoped>\n    .dataframe tbody tr th:only-of-type {\n        vertical-align: middle;\n    }\n\n    .dataframe tbody tr th {\n        vertical-align: top;\n    }\n\n    .dataframe thead th {\n        text-align: right;\n    }\n</style>\n<table border=\"1\" class=\"dataframe\">\n  <thead>\n    <tr style=\"text-align: right;\">\n      <th></th>\n      <th>date</th>\n      <th>bitcoin_am</th>\n      <th>dow_am</th>\n      <th>euro_stoxx50_am</th>\n      <th>nasdaq_am</th>\n      <th>nikkei_am</th>\n      <th>oro_am</th>\n      <th>petroleo_am</th>\n      <th>shangai_stock_exchange_am</th>\n      <th>sp_500_am</th>\n    </tr>\n  </thead>\n  <tbody>\n    <tr>\n      <th>0</th>\n      <td>2021-01-01</td>\n      <td>29359.9</td>\n      <td>55.50</td>\n      <td>3552.64</td>\n      <td>132.74</td>\n      <td>27444.17</td>\n      <td>1901.6</td>\n      <td>48.52</td>\n      <td>4.28</td>\n      <td>3756.07</td>\n    </tr>\n    <tr>\n      <th>1</th>\n      <td>2020-12-31</td>\n      <td>28949.4</td>\n      <td>55.47</td>\n      <td>3571.59</td>\n      <td>130.14</td>\n      <td>27568.15</td>\n      <td>1895.1</td>\n      <td>48.40</td>\n      <td>4.18</td>\n      <td>3732.04</td>\n    </tr>\n    <tr>\n      <th>2</th>\n      <td>2020-12-30</td>\n      <td>28868.7</td>\n      <td>54.33</td>\n      <td>3581.37</td>\n      <td>129.14</td>\n      <td>26854.03</td>\n      <td>1893.4</td>\n      <td>48.00</td>\n      <td>4.13</td>\n      <td>3727.04</td>\n    </tr>\n    <tr>\n      <th>3</th>\n      <td>2020-12-29</td>\n      <td>27376.0</td>\n      <td>54.29</td>\n      <td>3575.41</td>\n      <td>128.85</td>\n      <td>26656.61</td>\n      <td>1882.9</td>\n      <td>47.62</td>\n      <td>4.14</td>\n      <td>3735.36</td>\n    </tr>\n    <tr>\n      <th>4</th>\n      <td>2020-12-28</td>\n      <td>27057.8</td>\n      <td>54.79</td>\n      <td>3543.28</td>\n      <td>128.62</td>\n      <td>26668.35</td>\n      <td>1880.4</td>\n      <td>48.23</td>\n      <td>4.13</td>\n      <td>3703.06</td>\n    </tr>\n  </tbody>\n</table>\n</div>"
     },
     "metadata": {},
     "execution_count": 9
    }
   ],
   "source": [
    "amount = generate_df(amount, file, '_am')\n",
    "amount.head()"
   ]
  },
  {
   "cell_type": "code",
   "execution_count": 10,
   "metadata": {},
   "outputs": [
    {
     "output_type": "execute_result",
     "data": {
      "text/plain": [
       "        date  bitcoin_var  dow_var  euro_stoxx50_var  nasdaq_var  nikkei_var  \\\n",
       "0 2021-01-01         1.42     0.05             -0.53        2.00       -0.45   \n",
       "1 2020-12-31         0.28     2.10             -0.27        0.77        2.66   \n",
       "2 2020-12-30         5.45     0.07              0.17        0.23        0.74   \n",
       "3 2020-12-29         1.18    -0.91              0.91        0.18       -0.04   \n",
       "4 2020-12-28         3.03     0.07              0.11        0.52        0.54   \n",
       "\n",
       "   oro_var  petroleo_var  shangai_stock_exchange_var  sp_500_var  \n",
       "0     0.34          0.25                        2.17        0.64  \n",
       "1     0.09          0.83                        1.23        0.13  \n",
       "2     0.56          0.80                       -0.29       -0.22  \n",
       "3     0.13         -1.26                        0.31        0.87  \n",
       "4    -0.15          0.23                        1.00        0.35  "
      ],
      "text/html": "<div>\n<style scoped>\n    .dataframe tbody tr th:only-of-type {\n        vertical-align: middle;\n    }\n\n    .dataframe tbody tr th {\n        vertical-align: top;\n    }\n\n    .dataframe thead th {\n        text-align: right;\n    }\n</style>\n<table border=\"1\" class=\"dataframe\">\n  <thead>\n    <tr style=\"text-align: right;\">\n      <th></th>\n      <th>date</th>\n      <th>bitcoin_var</th>\n      <th>dow_var</th>\n      <th>euro_stoxx50_var</th>\n      <th>nasdaq_var</th>\n      <th>nikkei_var</th>\n      <th>oro_var</th>\n      <th>petroleo_var</th>\n      <th>shangai_stock_exchange_var</th>\n      <th>sp_500_var</th>\n    </tr>\n  </thead>\n  <tbody>\n    <tr>\n      <th>0</th>\n      <td>2021-01-01</td>\n      <td>1.42</td>\n      <td>0.05</td>\n      <td>-0.53</td>\n      <td>2.00</td>\n      <td>-0.45</td>\n      <td>0.34</td>\n      <td>0.25</td>\n      <td>2.17</td>\n      <td>0.64</td>\n    </tr>\n    <tr>\n      <th>1</th>\n      <td>2020-12-31</td>\n      <td>0.28</td>\n      <td>2.10</td>\n      <td>-0.27</td>\n      <td>0.77</td>\n      <td>2.66</td>\n      <td>0.09</td>\n      <td>0.83</td>\n      <td>1.23</td>\n      <td>0.13</td>\n    </tr>\n    <tr>\n      <th>2</th>\n      <td>2020-12-30</td>\n      <td>5.45</td>\n      <td>0.07</td>\n      <td>0.17</td>\n      <td>0.23</td>\n      <td>0.74</td>\n      <td>0.56</td>\n      <td>0.80</td>\n      <td>-0.29</td>\n      <td>-0.22</td>\n    </tr>\n    <tr>\n      <th>3</th>\n      <td>2020-12-29</td>\n      <td>1.18</td>\n      <td>-0.91</td>\n      <td>0.91</td>\n      <td>0.18</td>\n      <td>-0.04</td>\n      <td>0.13</td>\n      <td>-1.26</td>\n      <td>0.31</td>\n      <td>0.87</td>\n    </tr>\n    <tr>\n      <th>4</th>\n      <td>2020-12-28</td>\n      <td>3.03</td>\n      <td>0.07</td>\n      <td>0.11</td>\n      <td>0.52</td>\n      <td>0.54</td>\n      <td>-0.15</td>\n      <td>0.23</td>\n      <td>1.00</td>\n      <td>0.35</td>\n    </tr>\n  </tbody>\n</table>\n</div>"
     },
     "metadata": {},
     "execution_count": 10
    }
   ],
   "source": [
    "var = generate_df(var, file, '_var')\n",
    "var.head()"
   ]
  },
  {
   "cell_type": "code",
   "execution_count": 11,
   "metadata": {},
   "outputs": [
    {
     "output_type": "stream",
     "name": "stdout",
     "text": [
      "(1125, 10)\n(1125, 10)\n"
     ]
    }
   ],
   "source": [
    "print(var.shape)\n",
    "print(amount.shape)"
   ]
  },
  {
   "cell_type": "code",
   "execution_count": 12,
   "metadata": {},
   "outputs": [],
   "source": [
    "var.to_csv(\"variables.csv\",index=False)"
   ]
  },
  {
   "cell_type": "code",
   "execution_count": null,
   "metadata": {},
   "outputs": [],
   "source": []
  }
 ],
 "metadata": {
  "kernelspec": {
   "display_name": "Python 3",
   "language": "python",
   "name": "python3"
  },
  "language_info": {
   "codemirror_mode": {
    "name": "ipython",
    "version": 3
   },
   "file_extension": ".py",
   "mimetype": "text/x-python",
   "name": "python",
   "nbconvert_exporter": "python",
   "pygments_lexer": "ipython3",
   "version": "3.8.5-final"
  }
 },
 "nbformat": 4,
 "nbformat_minor": 2
}